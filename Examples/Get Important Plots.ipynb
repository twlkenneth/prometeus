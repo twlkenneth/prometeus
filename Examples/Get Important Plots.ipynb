{
 "cells": [
  {
   "cell_type": "markdown",
   "id": "e9c7af7b",
   "metadata": {},
   "source": [
    "## Get relevant packages"
   ]
  },
  {
   "cell_type": "code",
   "execution_count": 1,
   "id": "3fb7bd4e",
   "metadata": {},
   "outputs": [],
   "source": [
    "from pathlib import Path\n",
    "from typing import List, Tuple\n",
    "import pandas as pd\n",
    "import sys\n",
    "\n",
    "_root = Path.cwd()\n",
    "\n",
    "if not _root.joinpath(\"prometeus\").exists():\n",
    "    sys.path.insert(0, \"../\")\n",
    "    \n",
    "from prometeus.pca.analyzer import PCAnalyzer\n",
    "from prometeus.fa.analyzer import FAnalyzer\n",
    "from prometeus.pca.plot import PCAPlot\n",
    "from prometeus.fa.plot import FAPlot\n",
    "from sklearn.preprocessing import StandardScaler"
   ]
  },
  {
   "cell_type": "markdown",
   "id": "2875523a",
   "metadata": {},
   "source": [
    "## Prepare DataFrame"
   ]
  },
  {
   "cell_type": "code",
   "execution_count": 2,
   "id": "e686ae9e",
   "metadata": {},
   "outputs": [],
   "source": [
    "def preprocess_data_cluster(df: pd.DataFrame, clusters: List[int] = None) -> Tuple[pd.DataFrame, pd.Series]:\n",
    "    df.dropna(how='any', inplace=True)\n",
    "    if clusters is not None:\n",
    "        df = df[df['Cluster'].isin(clusters)]\n",
    "    clusters = df['Cluster'].astype(int).astype(str)\n",
    "    if 'Unnamed: 0' not in df.columns:\n",
    "        df.drop(columns=['SERVICE', 'MONTH_SQN', 'CUST_SQN', 'Cluster'], inplace=True)\n",
    "    else:\n",
    "        df.drop(columns=['Unnamed: 0', 'SERVICE', 'MONTH_SQN', 'CUST_SQN', 'Cluster'], inplace=True)\n",
    "    return df, clusters\n"
   ]
  },
  {
   "cell_type": "code",
   "execution_count": 3,
   "id": "d2a2a0c5",
   "metadata": {},
   "outputs": [],
   "source": [
    "normalize_col = ['SH_CUST_RATING', 'CUST_LVL_MOB_ARPU_6M', 'TENURE_MOBILE', 'CUST_LVL_MOB_CNT', 'CONTRACT_DURATION', 'SUBS_TENURE',\n",
    "                'LIFETIME_CONTRACTS_CNT', 'AUSAGE_SOCIALNET', 'AUSAGE_VIDEO', 'AUSAGE_COMMUNICATIONS', 'AUSAGE_NETFLIX',\n",
    "                'AUSAGE_ECOMMERCE', 'AUSAGE_GAMES', 'AUSAGE_MUSIC', 'AUSAGE_MAIL','AUSAGE_LIFESTYLE', 'AUSAGE_NEWS', 'AUSAGE_TRANSPORTATION',\n",
    "                'AUSAGE_NEWS', 'AUSAGE_TRANSPORTATION', 'USAGE_SOCIALNET', 'USAGE_STREAMINGVIDEO', 'USAGE_GAMES', 'USAGE_ENTERTAINMENT',\n",
    "                'USAGE_MUSIC', 'USAGE_TRANSPORTATION', 'USAGE_SHOPPING', 'USAGE_ECOMMERCE', 'USAGE_SPORTS', 'USAGE_NEWS', 'USAGE_TRAVEL']\n",
    "\n",
    "def normalize(df: pd.DataFrame) -> pd.DataFrame:\n",
    "    scaler = StandardScaler()\n",
    "    scaler.fit(df[normalize_col])\n",
    "    scaled_target = df[normalize_col].copy()\n",
    "\n",
    "    df[normalize_col]= scaler.transform(scaled_target)\n",
    "    return df.fillna(0)"
   ]
  },
  {
   "cell_type": "markdown",
   "id": "72ea4cac",
   "metadata": {},
   "source": [
    "## Using Prometeus Library to get plots"
   ]
  },
  {
   "cell_type": "markdown",
   "id": "58021515",
   "metadata": {},
   "source": [
    "### 1. Main"
   ]
  },
  {
   "cell_type": "code",
   "execution_count": null,
   "id": "a4be8013",
   "metadata": {
    "scrolled": false
   },
   "outputs": [],
   "source": [
    "df = pd.read_csv('Data/clustered_data_20210414.csv')\n",
    "df, clusters = preprocess_data_cluster(df)\n",
    "\n",
    "PCAPlot(normalize(df), clusters).generate_graphs(by='cum_var', n_components=22, is_filter=True)"
   ]
  },
  {
   "cell_type": "markdown",
   "id": "3f6c889c",
   "metadata": {},
   "source": [
    "### 2. Micro Segment Cluster 0 & 1"
   ]
  },
  {
   "cell_type": "code",
   "execution_count": 4,
   "id": "3c622445",
   "metadata": {},
   "outputs": [
    {
     "name": "stdout",
     "output_type": "stream",
     "text": [
      "2D bi-plot Picture saved at same directory!\n",
      "3D bi-plot Picture saved at same directory!\n"
     ]
    },
    {
     "data": {
      "application/vnd.jupyter.widget-view+json": {
       "model_id": "3d338415471149e3aa06d1ee43b83d4e",
       "version_major": 2,
       "version_minor": 0
      },
      "text/plain": [
       "Tab(children=(Output(layout=Layout(width='100%')), Output(layout=Layout(width='100%')), Output(layout=Layout(w…"
      ]
     },
     "metadata": {},
     "output_type": "display_data"
    }
   ],
   "source": [
    "df1 = pd.read_csv('Data/micro_segment_cluster0&1.csv')\n",
    "df1, clusters1 = preprocess_data_cluster(df1)\n",
    "\n",
    "PCAPlot(normalize(df1), clusters1).generate_graphs(by='cum_var', is_filter=True)"
   ]
  },
  {
   "cell_type": "markdown",
   "id": "1fdf93af",
   "metadata": {},
   "source": [
    "### 3. Micro Segment Cluster 2"
   ]
  },
  {
   "cell_type": "code",
   "execution_count": null,
   "id": "0ae8a9d8",
   "metadata": {},
   "outputs": [],
   "source": [
    "df2 = pd.read_csv('Data/micro_segment_cluster2.csv')\n",
    "df2, clusters2 = preprocess_data_cluster(df2)\n",
    "\n",
    "PCAPlot(normalize(df2), clusters2).generate_graphs(by='cum_var', is_filter=True)"
   ]
  },
  {
   "cell_type": "markdown",
   "id": "7b73be86",
   "metadata": {},
   "source": [
    "### 3. Micro Segment Cluster 4"
   ]
  },
  {
   "cell_type": "code",
   "execution_count": null,
   "id": "9cd4a4de",
   "metadata": {},
   "outputs": [],
   "source": [
    "df4 = pd.read_csv('Data/micro_segment_cluster4.csv')\n",
    "df4, clusters4 = preprocess_data_cluster(df4)\n",
    "\n",
    "PCAPlot(normalize(df4), clusters4).generate_graphs(by='scree', threshold=0.75, is_filter=True)"
   ]
  }
 ],
 "metadata": {
  "kernelspec": {
   "display_name": "Python 3",
   "language": "python",
   "name": "python3"
  },
  "language_info": {
   "codemirror_mode": {
    "name": "ipython",
    "version": 3
   },
   "file_extension": ".py",
   "mimetype": "text/x-python",
   "name": "python",
   "nbconvert_exporter": "python",
   "pygments_lexer": "ipython3",
   "version": "3.8.8"
  }
 },
 "nbformat": 4,
 "nbformat_minor": 5
}
