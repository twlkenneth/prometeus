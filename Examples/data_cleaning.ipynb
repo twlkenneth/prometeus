{
 "cells": [
  {
   "cell_type": "code",
   "execution_count": 4,
   "metadata": {},
   "outputs": [],
   "source": [
    "import pandas as pd\n",
    "import os\n",
    "\n",
    "const_dir = 'Data_20210409/'\n",
    "\n",
    "file_dir = os.listdir(const_dir)\n"
   ]
  },
  {
   "cell_type": "code",
   "execution_count": 5,
   "metadata": {},
   "outputs": [
    {
     "data": {
      "text/plain": [
       "['202101.csv', '202102.csv', '202103.csv', 'APP.csv', 'TV', 'WEB.csv']"
      ]
     },
     "execution_count": 5,
     "metadata": {},
     "output_type": "execute_result"
    }
   ],
   "source": [
    "file_dir"
   ]
  },
  {
   "cell_type": "markdown",
   "metadata": {},
   "source": [
    "# Concatenate Main File"
   ]
  },
  {
   "cell_type": "code",
   "execution_count": 6,
   "metadata": {},
   "outputs": [
    {
     "name": "stderr",
     "output_type": "stream",
     "text": [
      "C:\\Users\\Asus ROG\\Anaconda3\\lib\\site-packages\\IPython\\core\\interactiveshell.py:3058: DtypeWarning: Columns (42) have mixed types. Specify dtype option on import or set low_memory=False.\n",
      "  interactivity=interactivity, compiler=compiler, result=result)\n"
     ]
    }
   ],
   "source": [
    "_list = ['202103.csv']\n",
    "\n",
    "dfs = []\n",
    "\n",
    "for _l in _list:\n",
    "    dfs.append(pd.read_csv(const_dir + _l))\n",
    "    \n",
    "_df = pd.concat(dfs)"
   ]
  },
  {
   "cell_type": "code",
   "execution_count": 7,
   "metadata": {},
   "outputs": [],
   "source": [
    "app = pd.read_csv(const_dir + 'APP.csv')\n",
    "web = pd.read_csv(const_dir + 'WEB.csv')\n",
    "\n",
    "from functools import reduce\n",
    "\n",
    "df = reduce(lambda left,right: pd.merge(left,right,on=['MONTH_SQN', 'SUB_SQN'], how='inner'), [_df, app, web])"
   ]
  },
  {
   "cell_type": "code",
   "execution_count": 8,
   "metadata": {},
   "outputs": [],
   "source": [
    "df['GENDER'].replace('UNKNOWN', df['GENDER'].mode()[0], inplace=True)"
   ]
  },
  {
   "cell_type": "code",
   "execution_count": 9,
   "metadata": {},
   "outputs": [],
   "source": [
    "df['PREDICTED_RACE'].replace('UNKNOWN', df['PREDICTED_RACE'].mode()[0], inplace=True)"
   ]
  },
  {
   "cell_type": "code",
   "execution_count": 10,
   "metadata": {},
   "outputs": [],
   "source": [
    "df = df[df['MONTH_SQN'] == 202103]"
   ]
  },
  {
   "cell_type": "code",
   "execution_count": 11,
   "metadata": {},
   "outputs": [
    {
     "data": {
      "text/plain": [
       "175"
      ]
     },
     "execution_count": 11,
     "metadata": {},
     "output_type": "execute_result"
    }
   ],
   "source": [
    "len(df.columns)"
   ]
  },
  {
   "cell_type": "markdown",
   "metadata": {},
   "source": [
    "## A. Numerical Columns groupby mean"
   ]
  },
  {
   "cell_type": "code",
   "execution_count": 12,
   "metadata": {},
   "outputs": [],
   "source": [
    "const_col = ['SERVICE','MONTH_SQN', 'CUST_SQN']\n",
    "cat_col = ['PRODUCT_CODE', 'GROUP_PRODUCT_CODE_LV1', 'GROUP_PRODUCT_CODE_LV2', 'CIS_STATUS', 'SUBS_TENURE', 'PORT_IN_FLAG']\n",
    "object_col = [c for c in df.columns if df[c].dtype == 'object' and c not in const_col] + cat_col\n",
    "\n",
    "df_num = df.groupby(by=const_col).mean().reset_index().drop(columns=['SUB_SQN']+ cat_col + ['AUSAGE_TOTAL', 'USAGE_TOTAL'])"
   ]
  },
  {
   "cell_type": "code",
   "execution_count": 15,
   "metadata": {},
   "outputs": [
    {
     "data": {
      "text/plain": [
       "145"
      ]
     },
     "execution_count": 15,
     "metadata": {},
     "output_type": "execute_result"
    }
   ],
   "source": [
    "len(df_num.columns)"
   ]
  },
  {
   "cell_type": "markdown",
   "metadata": {},
   "source": [
    "## B. Special Preprocessing of categorical columns prior to groupby Counter"
   ]
  },
  {
   "cell_type": "code",
   "execution_count": null,
   "metadata": {},
   "outputs": [],
   "source": [
    "for c in cat_col:\n",
    "    df[c] = df[c].apply(lambda x: str(x))"
   ]
  },
  {
   "cell_type": "markdown",
   "metadata": {},
   "source": [
    "## C. Categorical Columns groupby Counter"
   ]
  },
  {
   "cell_type": "code",
   "execution_count": null,
   "metadata": {},
   "outputs": [],
   "source": [
    "from collections import Counter\n",
    "from typing import Dict, Any\n",
    "import numpy as np\n",
    "\n",
    "df[object_col] = df[object_col].fillna(\"\")\n",
    "\n",
    "def _get_df_obj(df: pd.DataFrame) -> pd.DataFrame:\n",
    "    \"\"\"  \n",
    "    To squash columns of data types == 'object' into Dictionary of category and counts \n",
    "    for each cell.\n",
    "    \n",
    "    Example\n",
    "    =========\n",
    "    {'OPP_R15 PRO': 1, 'SAM_TAB S5E 128GB': 1}\n",
    "    \"\"\"\n",
    "    def _get_counter(x: pd.Series) -> Dict[Any, int]:\n",
    "        tmp = x.split(\",\")\n",
    "        if len(tmp) == 1 and tmp[0] == \"\":\n",
    "            return np.nan\n",
    "        \n",
    "        res = {k: v for k, v in Counter(tmp).items()} \n",
    "        \n",
    "        if len(res) == 1 and list(res.keys())[0] == \"\":\n",
    "            return np.nan\n",
    "        \n",
    "        return {k: v for k, v in res.items() if k != \"\"}\n",
    "    \n",
    "    df_obj = df.groupby(by=const_col)[object_col].agg(lambda x: \",\".join(x))\n",
    "\n",
    "    for c in df_obj.columns:\n",
    "        df_obj[c] = df_obj[c].apply(lambda x: _get_counter(x))\n",
    "    \n",
    "    return df_obj.reset_index()\n",
    "\n",
    "df_obj = _get_df_obj(df)"
   ]
  },
  {
   "cell_type": "code",
   "execution_count": null,
   "metadata": {},
   "outputs": [],
   "source": [
    "df_obj.columns"
   ]
  },
  {
   "cell_type": "markdown",
   "metadata": {},
   "source": [
    "## D. Merge Num and Categorical dataset"
   ]
  },
  {
   "cell_type": "code",
   "execution_count": null,
   "metadata": {},
   "outputs": [],
   "source": [
    "res = df_num.merge(df_obj, how='left', on=const_col)\n",
    "# res = res[res['MONTH_SQN'] == 202103]"
   ]
  },
  {
   "cell_type": "markdown",
   "metadata": {},
   "source": [
    "# Check missing data"
   ]
  },
  {
   "cell_type": "code",
   "execution_count": null,
   "metadata": {},
   "outputs": [],
   "source": [
    "_res = pd.DataFrame(res.isna().sum()/len(res) * 100)\n",
    "_res.columns = ['missing_pct']"
   ]
  },
  {
   "cell_type": "code",
   "execution_count": null,
   "metadata": {},
   "outputs": [],
   "source": [
    "_res = _res[_res['missing_pct'] > 30] "
   ]
  },
  {
   "cell_type": "code",
   "execution_count": null,
   "metadata": {},
   "outputs": [],
   "source": [
    "_res"
   ]
  },
  {
   "cell_type": "markdown",
   "metadata": {},
   "source": [
    "# Remove columns which missing data > 30%¶"
   ]
  },
  {
   "cell_type": "code",
   "execution_count": null,
   "metadata": {},
   "outputs": [],
   "source": [
    "def get_missing_data_perc(x: pd.Series) -> float:\n",
    "    return x.isna().sum()/len(x) * 100\n",
    "\n",
    "usable_col = [c for c in res.columns if get_missing_data_perc(res[c]) < 30] "
   ]
  },
  {
   "cell_type": "code",
   "execution_count": null,
   "metadata": {},
   "outputs": [],
   "source": [
    "res_usable = res[usable_col]"
   ]
  },
  {
   "cell_type": "markdown",
   "metadata": {},
   "source": [
    "# Impute missing data with Mode"
   ]
  },
  {
   "cell_type": "code",
   "execution_count": null,
   "metadata": {},
   "outputs": [],
   "source": [
    "for c in res_usable.columns:\n",
    "    res_usable[c].fillna(res_usable[c].mode()[0], inplace=True)\n"
   ]
  },
  {
   "cell_type": "code",
   "execution_count": null,
   "metadata": {},
   "outputs": [],
   "source": [
    "## columns required 1 hot encoding: PLAN_TIER, ACQ_TYPE, CONTRACT_STATUS, SALES_CHANNEL_GROUP, 'ORDER_CPE_BRAND', 'GROUP_PRODUCT_CODE_LV1', 'GROUP_PRODUCT_CODE_LV2'\n",
    "## columns binary: 'PRODUCT_CODE', 'CIS_STATUS', 'SUBS_TENURE', 'PORT_IN_FLAG', \n",
    "## columns to drop: 'CUST_TENURE', 'SERVICE', 'SUBS_STATUS', 'HC_STATUS', 'DISTRICT', 'DWELLING_ROOM_TYPE', 'PAYMENT_METHOD', \n",
    "## 'MONTHS_SINCE_CONTRACT_START', 'MONTHS_TO_CONTRACT_END', 'MTHS_WITH_OVERDUE_BILL_6M'\n",
    "## 'VOL_MEDIA_APP', 'DAYS_ACTV_GAME_APP', 'DAYS_ACTV_SPORT_APP', 'DAYS_ACTV_IM_APP', 'TIMES_USED_SM_APP', 'VOL_SM_APP', 'MTHS_FRM_LAST_HANDSET_CHANGE',\n",
    "## 'HANDSETS_USED_IN_5YRS', 'CURR_HANDSET_BRAND', 'CURR_HANDSET_MODEL', 'ORDER_CPE_MODEL', 'ORDER_CPE_OS'\n",
    "## columns to get keys: 'GENDER', 'PREDICTED_RACE', 'NATIONALITY'"
   ]
  },
  {
   "cell_type": "markdown",
   "metadata": {},
   "source": [
    "# Drop columns not relevant to clustering"
   ]
  },
  {
   "cell_type": "code",
   "execution_count": null,
   "metadata": {},
   "outputs": [],
   "source": [
    "columns_to_drop = ['CUST_TENURE', 'SERVICE', 'SUBS_STATUS', 'HC_STATUS', 'DISTRICT', \n",
    "                   'DWELLING_ROOM_TYPE', 'PAYMENT_METHOD', 'MONTHS_SINCE_CONTRACT_START', \n",
    "                   'MONTHS_TO_CONTRACT_END', 'MTHS_WITH_OVERDUE_BILL_6M', 'VOL_MEDIA_APP', \n",
    "                   'DAYS_ACTV_GAME_APP', 'DAYS_ACTV_SPORT_APP', 'DAYS_ACTV_IM_APP', \n",
    "                   'TIMES_USED_SM_APP', 'VOL_SM_APP', 'MTHS_FRM_LAST_HANDSET_CHANGE',\n",
    "                  'HANDSETS_USED_IN_5YRS', 'CURR_HANDSET_BRAND', 'CURR_HANDSET_MODEL', \n",
    "                   'ORDER_CPE_MODEL', 'ORDER_CPE_OS', 'TIMES_USED_IM_APP', 'VOL_IM_APP', 'DAYS_ACTV_SM_APP',\n",
    "                  'NATIONALITY']"
   ]
  },
  {
   "cell_type": "code",
   "execution_count": null,
   "metadata": {},
   "outputs": [],
   "source": [
    "res_usable.drop(columns=columns_to_drop, inplace=True)"
   ]
  },
  {
   "cell_type": "code",
   "execution_count": null,
   "metadata": {},
   "outputs": [],
   "source": [
    "# SUBS_TENURE => to take mean of keys\n",
    "# 'PRODUCT_CODE', 'CIS_STATUS', 'SUBS_TENURE', 'PORT_IN_FLAG', 'GROUP_PRODUCT_CODE_LV1', 'GROUP_PRODUCT_CODE_LV2' \n",
    "# => to take '1' if value >= '0' else 0\n",
    "# 'PLAN_TIER', 'ACQ_TYPE', 'CONTRACT_STATUS', 'SALES_CHANNEL_GROUP', 'ORDER_CPE_BRAND', 'GENDER', 'PREDICTED_RACE', \n",
    "# 'NATIONALITY' => to take values of key if key exist elses Na; return Na if Na"
   ]
  },
  {
   "cell_type": "markdown",
   "metadata": {},
   "source": [
    "# Further Preprocessing for Columns with Counter"
   ]
  },
  {
   "cell_type": "code",
   "execution_count": null,
   "metadata": {},
   "outputs": [],
   "source": [
    "from statistics import mean\n",
    "import math\n",
    "\n",
    "res_usable['SUBS_TENURE'] = res_usable['SUBS_TENURE'].apply(lambda x: mean([int(k) for k in list(x.keys())]))\n",
    "\n"
   ]
  },
  {
   "cell_type": "code",
   "execution_count": null,
   "metadata": {},
   "outputs": [],
   "source": [
    "binary_columns = ['CIS_STATUS', 'PORT_IN_FLAG', 'GROUP_PRODUCT_CODE_LV1', 'GROUP_PRODUCT_CODE_LV2']\n",
    "\n",
    "def _get_binary_value(x) -> int:\n",
    "    if len(x) == 1:\n",
    "        return int(list(x.keys())[0])\n",
    "    return 1 if x['1'] >= x['0'] else 0\n",
    "\n",
    "for b in binary_columns:\n",
    "    res_usable[b] = res_usable[b].apply(lambda x: _get_binary_value(x))\n",
    "\n",
    "\n",
    "\n"
   ]
  },
  {
   "cell_type": "code",
   "execution_count": null,
   "metadata": {},
   "outputs": [],
   "source": [
    "one_hot_encoded_columns = ['PRODUCT_CODE', 'PLAN_TIER', 'ACQ_TYPE', 'CONTRACT_STATUS', \n",
    "                           'SALES_CHANNEL_GROUP', 'ORDER_CPE_BRAND', \n",
    "                           'GENDER', 'PREDICTED_RACE', 'AGE_GROUP']\n",
    "\n",
    "def _get_value(x) -> int:\n",
    "    if not isinstance(x, dict):\n",
    "        return np.nan\n",
    "    if c in x.keys():\n",
    "        return 1 #x[c]\n",
    "    return np.nan\n",
    "\n",
    "for o in one_hot_encoded_columns:\n",
    "    col = df[o].unique()\n",
    "    if o == 'PRODUCT_CODE':\n",
    "        for c in col:\n",
    "            res_usable[f'PRODUCT_CODE_{c}'] = res_usable[o].apply(lambda x: _get_value(x))\n",
    "    elif o == 'GENDER':\n",
    "        for c in col:\n",
    "            res_usable[f'GENDER_{c}'] = res_usable[o].apply(lambda x: _get_value(x))\n",
    "    else:\n",
    "        for c in col:\n",
    "            res_usable[c] = res_usable[o].apply(lambda x: _get_value(x))"
   ]
  },
  {
   "cell_type": "code",
   "execution_count": null,
   "metadata": {
    "scrolled": false
   },
   "outputs": [],
   "source": [
    "# pd.set_option('display.max_rows', 300)\n",
    "# res_usable.T"
   ]
  },
  {
   "cell_type": "code",
   "execution_count": null,
   "metadata": {},
   "outputs": [],
   "source": [
    "## Further drop the following columns\n",
    "## 'MONTH_SQN', 'CUST_SQN', 'CUST_LVL_FBB_ARPU_6M', 'CUST_LVL_TV_ARPU_6M', 'MTHS_BTW_HANDSET_CHANGE', 'GENDER',\n",
    "## 'PREDICTED_RACE', 'AGE_GROUP', 'PLAN_TIER', 'ACQ_TYPE', 'CONTRACT_STATUS', 'SALES_CHANNEL_GROUP', 'ORDER_CPE_BRAND',\n",
    "## 'PRODUCT_CODE', 'Unknown', ''\n",
    "\n",
    "## Columns requires normalization\n",
    "## 'SH_CUST_RATING', 'CUST_LVL_MOB_ARPU_6M', 'TENURE_MOBILE', 'CUST_LVL_MOB_CNT', 'CONTRACT_DURATION', \n",
    "## 'LIFETIME_CONTRACTS_CNT', 'AUSAGE_SOCIALNET',\n",
    "## 'AUSAGE_VIDEO', 'AUSAGE_COMMUNICATIONS', 'AUSAGE_NETFLIX',\n",
    "## 'AUSAGE_ECOMMERCE', 'AUSAGE_GAMES', 'AUSAGE_MUSIC', 'AUSAGE_MAIL',\n",
    "## 'AUSAGE_LIFESTYLE', 'AUSAGE_NEWS', 'AUSAGE_TRANSPORTATION'\n",
    "## 'AUSAGE_NEWS', 'AUSAGE_TRANSPORTATION'\n",
    "## USAGE_SOCIALNET', 'USAGE_STREAMINGVIDEO', 'USAGE_GAMES', 'USAGE_ENTERTAINMENT',\n",
    "## 'USAGE_MUSIC', 'USAGE_TRANSPORTATION', 'USAGE_SHOPPING',\n",
    "## 'USAGE_ECOMMERCE', 'USAGE_SPORTS', 'USAGE_NEWS', 'USAGE_TRAVEL'"
   ]
  },
  {
   "cell_type": "markdown",
   "metadata": {},
   "source": [
    "# Normalization, Fill One-hot encoded columns with 0"
   ]
  },
  {
   "cell_type": "code",
   "execution_count": null,
   "metadata": {},
   "outputs": [],
   "source": [
    "res_usable.drop(columns=['MONTH_SQN', 'CUST_SQN', 'CUST_LVL_FBB_ARPU_6M', 'CUST_LVL_TV_ARPU_6M', \n",
    "                         'MTHS_BTW_HANDSET_CHANGE', 'GENDER', 'PREDICTED_RACE', 'AGE_GROUP', 'PLAN_TIER', \n",
    "                         'ACQ_TYPE', 'CONTRACT_STATUS', 'SALES_CHANNEL_GROUP', 'ORDER_CPE_BRAND',\n",
    "                         'PRODUCT_CODE', 'Unknown', '',], inplace=True)"
   ]
  },
  {
   "cell_type": "code",
   "execution_count": null,
   "metadata": {},
   "outputs": [],
   "source": [
    "from sklearn.preprocessing import StandardScaler\n",
    "\n",
    "normalize_col = ['SH_CUST_RATING', 'CUST_LVL_MOB_ARPU_6M', 'TENURE_MOBILE', 'CUST_LVL_MOB_CNT', 'CONTRACT_DURATION', 'SUBS_TENURE',\n",
    "                'LIFETIME_CONTRACTS_CNT', 'AUSAGE_SOCIALNET', 'AUSAGE_VIDEO', 'AUSAGE_COMMUNICATIONS', 'AUSAGE_NETFLIX',\n",
    "                'AUSAGE_ECOMMERCE', 'AUSAGE_GAMES', 'AUSAGE_MUSIC', 'AUSAGE_MAIL','AUSAGE_LIFESTYLE', 'AUSAGE_NEWS', 'AUSAGE_TRANSPORTATION',\n",
    "                'AUSAGE_NEWS', 'AUSAGE_TRANSPORTATION', 'USAGE_SOCIALNET', 'USAGE_STREAMINGVIDEO', 'USAGE_GAMES', 'USAGE_ENTERTAINMENT',\n",
    "                'USAGE_MUSIC', 'USAGE_TRANSPORTATION', 'USAGE_SHOPPING', 'USAGE_ECOMMERCE', 'USAGE_SPORTS', 'USAGE_NEWS', 'USAGE_TRAVEL']\n",
    "\n",
    "scaler = StandardScaler()\n",
    "scaler.fit(res_usable[normalize_col])\n",
    "scaled_target = res_usable[normalize_col].copy()\n",
    "\n",
    "res_usable[normalize_col]= scaler.transform(scaled_target)"
   ]
  },
  {
   "cell_type": "code",
   "execution_count": null,
   "metadata": {},
   "outputs": [],
   "source": [
    "res_usable.fillna(0, inplace=True)"
   ]
  }
 ],
 "metadata": {
  "kernelspec": {
   "display_name": "Python 3",
   "language": "python",
   "name": "python3"
  },
  "language_info": {
   "codemirror_mode": {
    "name": "ipython",
    "version": 3
   },
   "file_extension": ".py",
   "mimetype": "text/x-python",
   "name": "python",
   "nbconvert_exporter": "python",
   "pygments_lexer": "ipython3",
   "version": "3.7.4"
  }
 },
 "nbformat": 4,
 "nbformat_minor": 2
}
