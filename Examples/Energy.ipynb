{
 "cells": [
  {
   "cell_type": "code",
   "execution_count": 1,
   "id": "a182188f",
   "metadata": {},
   "outputs": [],
   "source": [
    "from pathlib import Path\n",
    "from typing import List, Tuple\n",
    "import pandas as pd\n",
    "import sys\n",
    "\n",
    "_root = Path.cwd()\n",
    "\n",
    "if not _root.joinpath(\"prometeus\").exists():\n",
    "    sys.path.insert(0, \"../\")\n",
    "    \n",
    "from prometeus.pca.analyzer import PCAnalyzer\n",
    "from prometeus.fa.analyzer import FAnalyzer\n",
    "from prometeus.pca.plot import PCAPlot\n",
    "from prometeus.fa.plot import FAPlot\n",
    "from sklearn.preprocessing import StandardScaler"
   ]
  },
  {
   "cell_type": "code",
   "execution_count": 2,
   "id": "156894cb",
   "metadata": {},
   "outputs": [
    {
     "data": {
      "application/vnd.jupyter.widget-view+json": {
       "model_id": "fc4e379c321440b99253908a627d2992",
       "version_major": 2,
       "version_minor": 0
      },
      "text/plain": [
       "Tab(children=(Output(layout=Layout(width='100%')), Output(layout=Layout(width='100%'))), layout=Layout(width='…"
      ]
     },
     "metadata": {},
     "output_type": "display_data"
    }
   ],
   "source": [
    "energy_df = pd.read_csv(r\"C:\\Users\\Asus ROG\\Desktop\\inferno\\etfs_repo\\EnergyNormalized.csv\")\n",
    "FAPlot(df=energy_df).generate_graphs(by='cum_var', is_filter=True)"
   ]
  },
  {
   "cell_type": "code",
   "execution_count": null,
   "id": "f2009e1f",
   "metadata": {},
   "outputs": [],
   "source": []
  }
 ],
 "metadata": {
  "kernelspec": {
   "display_name": "Python 3",
   "language": "python",
   "name": "python3"
  },
  "language_info": {
   "codemirror_mode": {
    "name": "ipython",
    "version": 3
   },
   "file_extension": ".py",
   "mimetype": "text/x-python",
   "name": "python",
   "nbconvert_exporter": "python",
   "pygments_lexer": "ipython3",
   "version": "3.8.8"
  }
 },
 "nbformat": 4,
 "nbformat_minor": 5
}
